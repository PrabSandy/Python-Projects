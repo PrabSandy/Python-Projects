{
 "cells": [
  {
   "cell_type": "code",
   "execution_count": 1,
   "metadata": {},
   "outputs": [
    {
     "name": "stdout",
     "output_type": "stream",
     "text": [
      "Enter side a of triangle: 8\n",
      "Enter side b of triangle: 6\n",
      "Enter side c of triangle: 10\n",
      "Area of triangle: 24.0\n",
      "Perimeter of triangle 24\n"
     ]
    }
   ],
   "source": [
    "import math\n",
    "\n",
    "a = int(input(\"Enter side a of triangle: \"))\n",
    "b = int(input(\"Enter side b of triangle: \"))\n",
    "c = int(input(\"Enter side c of triangle: \"))\n",
    "\n",
    "\n",
    "class TriAngle():\n",
    "\n",
    "    def __init__(self, a, b, c):\n",
    "        self.a = a\n",
    "        self.b = b\n",
    "        self.c = c\n",
    "\n",
    "    def area(self):\n",
    "        s = (a + b + c)/2\n",
    "        area = math.sqrt(s*(s-a)*(s-b)*(s-c))\n",
    "        return area\n",
    "\n",
    "    def peri(self):\n",
    "        return a+b+c\n",
    "\n",
    "\n",
    "t = TriAngle(a, b, c)\n",
    "print(\"Area of triangle:\",round(t.area(),2))\n",
    "print(\"Perimeter of triangle\", round(t.peri(),2))"
   ]
  },
  {
   "cell_type": "code",
   "execution_count": null,
   "metadata": {},
   "outputs": [],
   "source": []
  }
 ],
 "metadata": {
  "kernelspec": {
   "display_name": "Python 3",
   "language": "python",
   "name": "python3"
  },
  "language_info": {
   "codemirror_mode": {
    "name": "ipython",
    "version": 3
   },
   "file_extension": ".py",
   "mimetype": "text/x-python",
   "name": "python",
   "nbconvert_exporter": "python",
   "pygments_lexer": "ipython3",
   "version": "3.7.4"
  }
 },
 "nbformat": 4,
 "nbformat_minor": 2
}
