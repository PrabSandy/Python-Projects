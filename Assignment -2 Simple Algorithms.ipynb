{
 "cells": [
  {
   "cell_type": "code",
   "execution_count": 13,
   "metadata": {},
   "outputs": [
    {
     "name": "stdout",
     "output_type": "stream",
     "text": [
      "Enter the number: 17\n",
      "17 is a prime number\n"
     ]
    }
   ],
   "source": [
    "#1. Check for Prime Number.\n",
    "\n",
    "num = int(input(\"Enter the number: \"))\n",
    "\n",
    "\n",
    "if num > 1:\n",
    "  \n",
    "   for i in range(2,num):\n",
    "        if (num % i) == 0:\n",
    "            print(num,\"is not a prime number\")\n",
    "            print(i,\"times\",num//i,\"is\",num)\n",
    "            break\n",
    "        else:\n",
    "            print(num,\"is a prime number\")\n",
    "            break\n",
    "\n",
    "else:\n",
    "    print(num,\"is not a prime number\")\n",
    "    "
   ]
  },
  {
   "cell_type": "code",
   "execution_count": 8,
   "metadata": {},
   "outputs": [
    {
     "name": "stdout",
     "output_type": "stream",
     "text": [
      "Enter the number: 10\n",
      "3\n",
      "5\n",
      "7\n"
     ]
    }
   ],
   "source": [
    "#2.\n",
    "start = 2\n",
    "end = int(input(\"Enter the number: \"))\n",
    "  \n",
    "for val in range(start, end + 1): \n",
    "    if val > 1: \n",
    "        for n in range(2, val//2 + 2): \n",
    "            if (val % n) == 0: \n",
    "                break\n",
    "            else: \n",
    "                if n == val//2 + 1: \n",
    "                    print(val)"
   ]
  },
  {
   "cell_type": "code",
   "execution_count": 27,
   "metadata": {},
   "outputs": [
    {
     "name": "stdout",
     "output_type": "stream",
     "text": [
      "Enter the elements in list: 2 5\n",
      "Enter a number: 4\n",
      "False\n"
     ]
    }
   ],
   "source": [
    "#3.\n",
    "def  binary_search_recurse(L, k, low, high): \n",
    "  \n",
    "   \n",
    "    if high >= low: \n",
    "  \n",
    "        mid = (high + low) // 2\n",
    "  \n",
    "       \n",
    "        if L[mid] == k: \n",
    "            return mid \n",
    "  \n",
    "       \n",
    "        elif L[mid] > k: \n",
    "            return binary_search_recurse(L, k, low, mid -1) \n",
    "  \n",
    "       \n",
    "        else: \n",
    "            return binary_search_recurse(L, k, mid+1, high)\n",
    "  \n",
    "    else: \n",
    "      \n",
    "        return -1\n",
    "  \n",
    " \n",
    "L =[]\n",
    "L =[int(item) for item in input(\"Enter the elements in list: \").split()]\n",
    "k = int(input(\"Enter a number: \"))\n",
    "  \n",
    "\n",
    "result = binary_search_recurse(L, k, 0, len(L)-1) \n",
    "  \n",
    "if result != -1: \n",
    "    print(True) \n",
    "else: \n",
    "    print(False) "
   ]
  },
  {
   "cell_type": "code",
   "execution_count": 29,
   "metadata": {},
   "outputs": [
    {
     "name": "stdout",
     "output_type": "stream",
     "text": [
      "Enter the elements in list: 4 9 8 3\n",
      "Sorted array\n",
      "3\n",
      "4\n",
      "8\n",
      "9\n"
     ]
    }
   ],
   "source": [
    "#4. Selection Sort\n",
    "import sys\n",
    "A=[]\n",
    "A=[int(item) for item in input(\"Enter the elements in list: \").split()]\n",
    "\n",
    "for i in range(len(A)):\n",
    "    min_idx=i\n",
    "    for j in range(i+1, len(A)):\n",
    "        if A[min_idx]>A[j]:\n",
    "            min_idx=j\n",
    "    A[i], A[min_idx]=A[min_idx], A[i]\n",
    "    \n",
    "print (\"Sorted array\") \n",
    "for i in range(len(A)): \n",
    "    print(\"%d\" %A[i])"
   ]
  },
  {
   "cell_type": "code",
   "execution_count": 33,
   "metadata": {},
   "outputs": [
    {
     "name": "stdout",
     "output_type": "stream",
     "text": [
      "Enter the Elements: 5 4 8 96 2 1\n",
      "Sorted List: \n",
      "1\n",
      "2\n",
      "4\n",
      "5\n",
      "8\n",
      "96\n"
     ]
    }
   ],
   "source": [
    "#5. Bubble Sort\n",
    "def bubble_sort(L):\n",
    "    n=len(L)\n",
    "    \n",
    "    for i in range(n-1):\n",
    "        for j in range(0, n-i-1):\n",
    "            if L[j]>L[j+1]:\n",
    "                L[j], L[j+1]=L[j+1], L[j]\n",
    "                \n",
    "L=[]\n",
    "L=[int(item)for item in input(\"Enter the Elements: \").split()]\n",
    "bubble_sort(L)\n",
    "print(\"Sorted List: \")\n",
    "for i in range(len(L)):\n",
    "    print(\"%d\" %L[i])"
   ]
  },
  {
   "cell_type": "code",
   "execution_count": null,
   "metadata": {},
   "outputs": [],
   "source": []
  }
 ],
 "metadata": {
  "kernelspec": {
   "display_name": "Python 3",
   "language": "python",
   "name": "python3"
  },
  "language_info": {
   "codemirror_mode": {
    "name": "ipython",
    "version": 3
   },
   "file_extension": ".py",
   "mimetype": "text/x-python",
   "name": "python",
   "nbconvert_exporter": "python",
   "pygments_lexer": "ipython3",
   "version": "3.7.4"
  }
 },
 "nbformat": 4,
 "nbformat_minor": 4
}
